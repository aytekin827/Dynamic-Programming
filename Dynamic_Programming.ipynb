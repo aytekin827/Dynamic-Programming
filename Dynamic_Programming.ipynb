{
  "nbformat": 4,
  "nbformat_minor": 0,
  "metadata": {
    "colab": {
      "name": "Dynamic Programming.ipynb",
      "provenance": [],
      "collapsed_sections": [
        "HtEcGo36A0W4",
        "ab0fvHbjsv21",
        "BmhGGGxFb5K0"
      ],
      "toc_visible": true,
      "authorship_tag": "ABX9TyOWNI9KPr40x/qAXqxNKpwu",
      "include_colab_link": true
    },
    "kernelspec": {
      "name": "python3",
      "display_name": "Python 3"
    },
    "language_info": {
      "name": "python"
    }
  },
  "cells": [
    {
      "cell_type": "markdown",
      "metadata": {
        "id": "view-in-github",
        "colab_type": "text"
      },
      "source": [
        "<a href=\"https://colab.research.google.com/github/aytekin827/algorithm_Dynamic-Programming/blob/main/Dynamic_Programming.ipynb\" target=\"_parent\"><img src=\"https://colab.research.google.com/assets/colab-badge.svg\" alt=\"Open In Colab\"/></a>"
      ]
    },
    {
      "cell_type": "markdown",
      "metadata": {
        "id": "LjSCVfgh-tmN"
      },
      "source": [
        "# Dynamic Programming, Dp\n"
      ]
    },
    {
      "cell_type": "markdown",
      "metadata": {
        "id": "cIIM-K0LrwIq"
      },
      "source": [
        "알고리즘이 아닌 하나의 방법론, 패러다임(paradigm)  \n",
        "여기에서 동적(dynamic)은 '실행되는 도중에'라는 의미로 사용된다.  \n",
        "\n",
        "> **'기억하며 풀기'**라는 말이 이 방법론을 제일 잘 설명한다고 볼 수 있다.\n",
        "\n"
      ]
    },
    {
      "cell_type": "markdown",
      "metadata": {
        "id": "t2Q7blYer6Ur"
      },
      "source": [
        "---\n",
        "\n",
        "\n",
        "**[푸는 방식]**\n",
        "* 탑다운 방식 : 재귀를 이용해서 위에서 아래로 푼다.  \n",
        "(메모이제이션(memoization) , 캐싱(caching) : 이미 구한 연산을 또 구하지 않기 위해서 만든 기법)\n",
        "\n",
        "* 바텀업 방식 : 반복문을 통해서 작은문제부터 풀어나간다  \n",
        "tablation테불레이션  \n",
        "DP table, 저장용 리스트\n",
        "\n",
        "\n"
      ]
    },
    {
      "cell_type": "markdown",
      "metadata": {
        "id": "l8dUr9o5r_Do"
      },
      "source": [
        "---\n",
        "**[실행조건]**\n",
        "1. 큰 문제를 작은 문제로 나눌 수 있다.\n",
        "2. 작은 문제에서 구한 정답은 그것을 표현하는 큰 문제에서도 동일하다\n"
      ]
    },
    {
      "cell_type": "markdown",
      "metadata": {
        "id": "vLyrUwEzsEr5"
      },
      "source": [
        "---\n",
        "\n",
        "\n",
        "**[DP조건]**  \n",
        "1. 중복되는 서브문제(overlapping subproblems) - 문제해결관점  \n",
        ":  큰 문제를 작은 문제로 쪼갤 수 있고, 큰문제와 작은문제를 같은 방법으로 풀 수 있다. => 메모이제이션 \n",
        "\n",
        "2. 최적 부분 구조(optimal substructure) - 문제의 구조관점  \n",
        ": 전체 문제의 최적해가 부분 문제의 최적해들로써 구성된다.\n"
      ]
    },
    {
      "cell_type": "markdown",
      "metadata": {
        "id": "gPwHmqrpsHnt"
      },
      "source": [
        "\n",
        "\n",
        "**[정리]**  \n",
        "* 재귀 + 최적부분구조(optimal substructure) ==> **분할정복**  \n",
        "(ex. merge sort, quick sort)  \n",
        "* 분할정복 + 중복되는 서브문제(overlapping subproblemss) ==>**DP**  \n",
        "(ex. 피보나치)  \n",
        "\n",
        "\n",
        "* **DP = 재귀 + 최적부분구조 + 중복되는 서브문제**\n",
        "\n",
        "\n"
      ]
    },
    {
      "cell_type": "markdown",
      "metadata": {
        "id": "kAo2Sz00r0vq"
      },
      "source": [
        "\n",
        "\n",
        "**[분할정복 vs DP]**   \n",
        "분할정복은 서브문제가 서로 다름,독립적 -> 메모이제이션 활용 불가능  \n",
        "DP는 **서브문제가 중복**됨 -> 메모이제이션 활용가능"
      ]
    },
    {
      "cell_type": "markdown",
      "metadata": {
        "id": "HtEcGo36A0W4"
      },
      "source": [
        "## 푸는방식별로 비교  \n"
      ]
    },
    {
      "cell_type": "markdown",
      "metadata": {
        "id": "oebT1_EjrsDF"
      },
      "source": [
        "(피보나치 수열 예제)\n",
        "1. 재귀\n",
        "2. 메모이제이션(하향식)\n",
        "3. 테블레이션(상향식)"
      ]
    },
    {
      "cell_type": "code",
      "metadata": {
        "colab": {
          "base_uri": "https://localhost:8080/"
        },
        "id": "5YLAxclK-qn0",
        "outputId": "25453dfe-2c66-489b-9f14-c400883f69a9"
      },
      "source": [
        "# 피보나치 수열\n",
        "# 시간복잡도 O(2^N)\n",
        "def fibo(x):\n",
        "    if x == 1 or x == 2:\n",
        "        return 1\n",
        "    else:\n",
        "        return fibo(x-1) + fibo(x-2)\n",
        "fibo(35)"
      ],
      "execution_count": null,
      "outputs": [
        {
          "output_type": "execute_result",
          "data": {
            "text/plain": [
              "9227465"
            ]
          },
          "metadata": {},
          "execution_count": 28
        }
      ]
    },
    {
      "cell_type": "code",
      "metadata": {
        "id": "OY9gioYO_Y0y"
      },
      "source": [
        "# memoization을 이용한 피보나치 수열\n",
        "# 하향식\n",
        "# 시간복잡도 O(N)\n",
        "memo = {}\n",
        "def fibo_memo(x):\n",
        "    if x == 1 or x == 2:\n",
        "        memo[x] = 1\n",
        "        return memo[x]\n",
        "    elif x in memo:\n",
        "        return memo[x]\n",
        "    else:\n",
        "        memo[x] = fibo_memo(x-1) + fibo_memo(x-2)\n",
        "        return memo[x]\n",
        "fibo(35)"
      ],
      "execution_count": null,
      "outputs": []
    },
    {
      "cell_type": "code",
      "metadata": {
        "id": "WMkaJddxa19k",
        "colab": {
          "base_uri": "https://localhost:8080/"
        },
        "outputId": "5068c97f-8937-4600-8708-3dd76b19534d"
      },
      "source": [
        "# tablation 바텀업, 상향식\n",
        "# 반복문을 이용해서 연산\n",
        "# 연산이 엄청 빠르다.\n",
        "# 시간복잡도 O(N)\n",
        "\n",
        "n = int(input('n을 입력하세요:'))\n",
        "table = [0] * (n+1)\n",
        "\n",
        "def fibo_table(n):\n",
        "    table[1] = 1\n",
        "    table[2] = 1\n",
        "    for i in range(3,n+1):\n",
        "        table[i] = table[i-1]+table[i-2]\n",
        "    return table[n]\n",
        "    \n",
        "print(fibo_table(n))\n",
        "print(table)"
      ],
      "execution_count": null,
      "outputs": [
        {
          "output_type": "stream",
          "name": "stdout",
          "text": [
            "n을 입력하세요:10\n",
            "55\n",
            "[0, 1, 1, 2, 3, 5, 8, 13, 21, 34, 55]\n"
          ]
        }
      ]
    },
    {
      "cell_type": "markdown",
      "metadata": {
        "id": "ab0fvHbjsv21"
      },
      "source": [
        "# 백준 문제풀이"
      ]
    },
    {
      "cell_type": "code",
      "metadata": {
        "id": "jy9xNKkisxft"
      },
      "source": [
        "# 1003번 피보나치 함수\n",
        "\n",
        "# 바텀업방식 - 반복문\n",
        "number = [[0,0]] * (101)\n",
        "def fibo(n):\n",
        "    number[0] = [1,0]\n",
        "    number[1] = [0,1]\n",
        "    if n >= 2:\n",
        "        for i in range(2,n+1):\n",
        "            a = number[i-1][0] + number[i-2][0]\n",
        "            b = number[i-1][1] + number[i-2][1]\n",
        "            number[i] = [a,b]\n",
        "    return number[n]\n",
        "\n",
        "import sys\n",
        "input = sys.stdin.readline\n",
        "t = int(input())\n",
        "for _ in range(t):\n",
        "    n = int(input())\n",
        "    number = [[0,0]] * (101)\n",
        "    f = fibo(n)\n",
        "    print(f[0],f[1])\n",
        "\n",
        "# 탑다운방식 - 메모이제이션\n",
        "def fibo_memo(x):\n",
        "    if x == 0:\n",
        "        memo[x] = [1,0]\n",
        "        return memo[x]\n",
        "    elif x == 1:\n",
        "        memo[x] = [0,1]\n",
        "        return memo[x]\n",
        "    elif x in memo:\n",
        "        return memo[x]\n",
        "    else:\n",
        "        a = fibo_memo(x-1)[0] + fibo_memo(x-2)[0]\n",
        "        b = fibo_memo(x-1)[1] + fibo_memo(x-2)[1]\n",
        "        memo[x] = [a,b]\n",
        "        return memo[x]\n",
        "\n",
        "import sys\n",
        "input = sys.stdin.readline\n",
        "t = int(input())\n",
        "for _ in range(t):\n",
        "    n = int(input())\n",
        "    memo = {}\n",
        "    f = fibo(n)\n",
        "    print(f[0],f[1])"
      ],
      "execution_count": null,
      "outputs": []
    },
    {
      "cell_type": "code",
      "metadata": {
        "id": "GRQ_Y3suBfi6"
      },
      "source": [
        "# 9184 - 신나는 함수 실행\n",
        "def w(a,b,c):\n",
        "    # print(memo)\n",
        "    if a <= 0 or b <= 0 or c <= 0:\n",
        "        return 1\n",
        "    elif a > 20 or b > 20 or c > 20:      \n",
        "        return w(20,20,20)\n",
        "    elif (a,b,c) in memo:\n",
        "        return memo[(a,b,c)]\n",
        "    elif a < b < c:\n",
        "        memo[(a,b,c)] = w(a,b,c-1) + w(a,b-1,c-1) - w(a,b-1,c)\n",
        "        return memo[(a,b,c)]\n",
        "    \n",
        "    memo[(a,b,c)] = w(a-1,b,c) + w(a-1,b-1,c) + w(a-1,b,c-1) - w(a-1,b-1,c-1)\n",
        "    return memo[(a,b,c)]\n",
        "\n",
        "memo = {}\n",
        "import sys\n",
        "input = sys.stdin.readline\n",
        "while True:\n",
        "    a,b,c = map(int,input().split())\n",
        "    if a == -1 and b == -1 and c == -1:\n",
        "        break\n",
        "    print(f'w({a}, {b}, {c}) = {w(a,b,c)}')"
      ],
      "execution_count": null,
      "outputs": []
    },
    {
      "cell_type": "code",
      "metadata": {
        "id": "OagdDoG7Vxkt"
      },
      "source": [
        "# 1904번 - 01타일\n",
        "# 15746으로 나눈 나머지를 출력한다.\n",
        "import sys\n",
        "input = sys.stdin.readline\n",
        "\n",
        "import sys\n",
        "sys.setrecursionlimit(10 ** 6)\n",
        "\n",
        "n = int(input())\n",
        "\n",
        "def tile(n):\n",
        "    if n <= 2:\n",
        "        memo[1] = 1\n",
        "        memo[2] = 2\n",
        "        return memo[n]\n",
        "    elif n in memo:\n",
        "        return memo[n]\n",
        "    else:\n",
        "        memo[n] = (tile(n-1) + tile(n-2)) % 15746\n",
        "        return memo[n]\n",
        "memo={}\n",
        "\n",
        "print(tile(n))\n",
        "\n",
        "# 1904번 - 01타일\n",
        "# 반복문을 이용해서 - 바텀업\n",
        "import sys\n",
        "input = sys.stdin.readline\n",
        "n = int(input())\n",
        "tile_list = [0]*(n+1)\n",
        "\n",
        "tile_list[1] = 1\n",
        "tile_list[2] = 2\n",
        "\n",
        "for i in range(3,n+1):\n",
        "    tile_list[i] = (tile_list[i-1] + tile_list[i-2])%15746\n",
        "\n",
        "print(tile_list[n])"
      ],
      "execution_count": null,
      "outputs": []
    },
    {
      "cell_type": "code",
      "metadata": {
        "colab": {
          "base_uri": "https://localhost:8080/"
        },
        "id": "2Nlk5VEPDzWl",
        "outputId": "aa36af33-730b-42f6-9989-6a0c4f4b0163"
      },
      "source": [
        "# 9461번 - 파도반 수열\n",
        "import sys\n",
        "input = sys.stdin.readline\n",
        "\n",
        "t = int(input())\n",
        "\n",
        "for _ in range(t):\n",
        "    dp = [0] * 101\n",
        "    dp[1] = 1\n",
        "    dp[2] = 1\n",
        "    dp[3] = 1\n",
        "    dp[4] = 2\n",
        "    dp[5] = 2\n",
        "    n = int(input())\n",
        "    for i in range(6,n+1):\n",
        "        dp[i] = dp[i-5] + dp[i-1]\n",
        "    print(dp[n])"
      ],
      "execution_count": null,
      "outputs": [
        {
          "output_type": "stream",
          "name": "stdout",
          "text": [
            "3\n",
            "6\n",
            "3\n",
            "12\n",
            "16\n",
            "10\n",
            "9\n"
          ]
        }
      ]
    },
    {
      "cell_type": "code",
      "metadata": {
        "colab": {
          "base_uri": "https://localhost:8080/"
        },
        "id": "4O7SD4kTGdBe",
        "outputId": "c8a683d8-9ef9-4e0d-8d01-f86752f0afac"
      },
      "source": [
        "# 1149 - RGB거리 \n",
        "# i 번째 빨강의 최소값 = i번째 빨강의 비용 + min(i-1번째 파랑의 최소값, i-1번째 초록의 최소값)\n",
        "# 이런 아이디어이다. 결국 dp를 이용한 점화식을 생각해내는것이 중요 포인트이다.\n",
        "import sys\n",
        "input = sys.stdin.readline\n",
        "t = int(input())\n",
        "rgb = []\n",
        "for _ in range(t):\n",
        "    rgb.append(list(map(int,input().split())))\n",
        "\n",
        "rgb_min = [[0,0,0] for _ in range(t)]\n",
        "\n",
        "# rgb_min리스트의 초기값 설정\n",
        "rgb_min[0][0] = rgb[0][0] # 첫번째 빨강 비용\n",
        "rgb_min[0][1] = rgb[0][1] # 첫번째 초록 비용\n",
        "rgb_min[0][2] = rgb[0][2] # 첫번째 파랑 비용\n",
        "\n",
        "\n",
        "for i in range(1,t):\n",
        "    rgb_min[i][0] = rgb[i][0] + min(rgb_min[i-1][1], rgb_min[i-1][2]) #i번째 빨강을 칠할때 최소값\n",
        "    rgb_min[i][1] = rgb[i][1] + min(rgb_min[i-1][0], rgb_min[i-1][2]) #i번째 초록을 칠할때 최소값\n",
        "    rgb_min[i][2] = rgb[i][2] + min(rgb_min[i-1][0], rgb_min[i-1][1]) #i번째 파랑을 칠할때 최소값\n",
        "\n",
        "print(min(rgb_min[t-1]))"
      ],
      "execution_count": null,
      "outputs": [
        {
          "output_type": "stream",
          "name": "stdout",
          "text": [
            "3\n",
            "26 40 86\n",
            "49 60 57\n",
            "13 89 99\n",
            "[[0, 0, 0], [0, 0, 0], [0, 0, 0]]\n",
            "[[26, 40, 86], [0, 0, 0], [0, 0, 0]]\n",
            "[[26, 40, 86], [89, 86, 83], [96, 172, 185]]\n",
            "96\n"
          ]
        }
      ]
    },
    {
      "cell_type": "code",
      "metadata": {
        "colab": {
          "base_uri": "https://localhost:8080/"
        },
        "id": "PWabL-oKP_Nw",
        "outputId": "8692b709-1250-401a-fe29-dfc993fe5c79"
      },
      "source": [
        "# 1932 - 정수삼각형\n",
        "# 아이디어는 각 층마다 최대값을 다 구한뒤 최대값을 찾아서 출력한다\n",
        "\n",
        "import sys\n",
        "input = sys.stdin.readline\n",
        "\n",
        "n = int(input())\n",
        "triangle = []\n",
        "for _ in range(n):\n",
        "    triangle.append(list(map(int,input().split())))\n",
        "\n",
        "for i in range(1,n):\n",
        "    for j in range(len(triangle[i])):\n",
        "        if j == 0:\n",
        "            triangle[i][j] += triangle[i-1][j]\n",
        "        elif j == len(triangle[i])-1:\n",
        "            triangle[i][j] += triangle[i-1][j-1]\n",
        "        else:\n",
        "            triangle[i][j] += max(triangle[i-1][j-1],triangle[i-1][j])\n",
        "\n",
        "print(max(triangle[n-1])) "
      ],
      "execution_count": null,
      "outputs": [
        {
          "output_type": "stream",
          "name": "stdout",
          "text": [
            "5\n",
            "7\n",
            "3 5\n",
            "8 1 0\n",
            "2 7 4 4\n",
            "4 5 2 6 5\n",
            "triangle:[[7], [3, 5], [8, 1, 0], [2, 7, 4, 4], [4, 5, 2, 6, 5]] i:1 j:0\n",
            "triangle:[[7], [10, 5], [8, 1, 0], [2, 7, 4, 4], [4, 5, 2, 6, 5]] i:1 j:1\n",
            "triangle:[[7], [10, 12], [8, 1, 0], [2, 7, 4, 4], [4, 5, 2, 6, 5]] i:2 j:0\n",
            "triangle:[[7], [10, 12], [18, 1, 0], [2, 7, 4, 4], [4, 5, 2, 6, 5]] i:2 j:1\n",
            "triangle:[[7], [10, 12], [18, 13, 0], [2, 7, 4, 4], [4, 5, 2, 6, 5]] i:2 j:2\n",
            "triangle:[[7], [10, 12], [18, 13, 12], [2, 7, 4, 4], [4, 5, 2, 6, 5]] i:3 j:0\n",
            "triangle:[[7], [10, 12], [18, 13, 12], [20, 7, 4, 4], [4, 5, 2, 6, 5]] i:3 j:1\n",
            "triangle:[[7], [10, 12], [18, 13, 12], [20, 25, 4, 4], [4, 5, 2, 6, 5]] i:3 j:2\n",
            "triangle:[[7], [10, 12], [18, 13, 12], [20, 25, 17, 4], [4, 5, 2, 6, 5]] i:3 j:3\n",
            "triangle:[[7], [10, 12], [18, 13, 12], [20, 25, 17, 16], [4, 5, 2, 6, 5]] i:4 j:0\n",
            "triangle:[[7], [10, 12], [18, 13, 12], [20, 25, 17, 16], [24, 5, 2, 6, 5]] i:4 j:1\n",
            "triangle:[[7], [10, 12], [18, 13, 12], [20, 25, 17, 16], [24, 30, 2, 6, 5]] i:4 j:2\n",
            "triangle:[[7], [10, 12], [18, 13, 12], [20, 25, 17, 16], [24, 30, 27, 6, 5]] i:4 j:3\n",
            "triangle:[[7], [10, 12], [18, 13, 12], [20, 25, 17, 16], [24, 30, 27, 23, 5]] i:4 j:4\n",
            "30\n"
          ]
        }
      ]
    },
    {
      "cell_type": "code",
      "metadata": {
        "id": "H1cefto7Osl2",
        "colab": {
          "base_uri": "https://localhost:8080/"
        },
        "outputId": "c9212aa4-7a25-48d2-fef3-3ec0f9cccf7a"
      },
      "source": [
        "# 2579 - 계단 오르기\n",
        "\n",
        "n = int(input())\n",
        "steps = []\n",
        "for _ in range(n):\n",
        "    steps.append(int(input()))\n",
        "\n",
        "res = [0] * (n)\n",
        "\n",
        "res[0] = steps[0]\n",
        "res[1] = steps[0] + steps[1]\n",
        "res[2] = max(steps[0] + steps[2],steps[1] + steps[2])\n",
        "for i in range(3,n):\n",
        "    print(f'res:{res}')\n",
        "    res[i] = max(res[i-2]+steps[i], res[i-3]+steps[i-1]+steps[i])\n",
        "print(f'steps:{steps} res:{res}')\n",
        "print(res[n-1])"
      ],
      "execution_count": null,
      "outputs": [
        {
          "output_type": "stream",
          "name": "stdout",
          "text": [
            "6\n",
            "10\n",
            "20\n",
            "15\n",
            "25\n",
            "10\n",
            "20\n",
            "res:[10, 30, 35, 0, 0, 0]\n",
            "res:[10, 30, 35, 55, 0, 0]\n",
            "res:[10, 30, 35, 55, 65, 0]\n",
            "steps:[10, 20, 15, 25, 10, 20] res:[10, 30, 35, 55, 65, 75]\n",
            "75\n"
          ]
        }
      ]
    },
    {
      "cell_type": "code",
      "metadata": {
        "id": "hd_2yLZGWhb7"
      },
      "source": [
        "# 2579 통과된 코드\n",
        "\n",
        "n = int(input())\n",
        "steps = [0 for _ in range(301)]\n",
        "res = [0 for _ in range(301)]\n",
        "for i in range(n):\n",
        "    steps[i] = int(input())\n",
        "\n",
        "res[1] = steps[0]\n",
        "res[2] = steps[0] + steps[1]\n",
        "res[3] = max(steps[0] + steps[2],steps[1] + steps[2])\n",
        "for i in range(4,n+1):\n",
        "    res[i] = max(res[i-2]+steps[i-1], res[i-3]+steps[i-1]+steps[i-2])\n",
        "\n",
        "print(res[n])"
      ],
      "execution_count": null,
      "outputs": []
    },
    {
      "cell_type": "code",
      "metadata": {
        "id": "nFb2lznMZwlg",
        "outputId": "ef8f833e-7db3-4493-92c1-73957acf189b",
        "colab": {
          "base_uri": "https://localhost:8080/"
        }
      },
      "source": [
        "# 1463 - 1로 만들기\n",
        "n = int(input())\n",
        "dp = [0] * (n+1)\n",
        "\n",
        "for i in range(2,n+1):\n",
        "    dp[i] = dp[i-1]+1\n",
        "\n",
        "    if i%3 == 0:\n",
        "        dp[i] = min(dp[i//3]+1, dp[i])\n",
        "    if i%2 == 0:\n",
        "        dp[i] = min(dp[i//2]+1, dp[i])\n",
        "print(dp[n])"
      ],
      "execution_count": null,
      "outputs": [
        {
          "output_type": "stream",
          "name": "stdout",
          "text": [
            "[0, 0, 1, 1, 2, 3, 2, 3, 3, 2, 3, 4, 3, 4, 4, 4, 4, 5, 3, 4, 4, 4, 5, 6, 4, 5]\n"
          ]
        }
      ]
    },
    {
      "cell_type": "code",
      "metadata": {
        "id": "9cvyTpRQguPf"
      },
      "source": [
        "# 10844 - 쉬운 계단 수\n",
        "# 점화식을 세우려고 노력하자!!"
      ],
      "execution_count": null,
      "outputs": []
    },
    {
      "cell_type": "code",
      "source": [
        "# 9095번 : 1, 2, 3 더하기\n",
        "\n",
        "def dp(num):\n",
        "    if num == 1:\n",
        "        return 1\n",
        "    elif num == 2:\n",
        "        return 2\n",
        "    elif num == 3:\n",
        "        return 4\n",
        "    else:\n",
        "        return dp(num-1) + dp(num-2) + dp(num-3)\n",
        "\n",
        "# 문제를 반복하여 풀 횟수\n",
        "t = int(input())\n",
        "\n",
        "for _ in range(t):\n",
        "    i = int(input())\n",
        "    print(dp(i))"
      ],
      "metadata": {
        "id": "X7T4HXNGvhwO",
        "outputId": "893fbe25-1028-41dc-b41a-461f66f8a90a",
        "colab": {
          "base_uri": "https://localhost:8080/"
        }
      },
      "execution_count": null,
      "outputs": [
        {
          "output_type": "stream",
          "name": "stdout",
          "text": [
            "3\n",
            "4\n",
            "7\n",
            "7\n",
            "44\n",
            "10\n",
            "274\n"
          ]
        }
      ]
    },
    {
      "cell_type": "code",
      "source": [
        "# 11726번: 2xn 타일링\n",
        "\n",
        "n = int(input())\n",
        "\n",
        "m = [0]*1001\n",
        "m[1] = 1\n",
        "m[2] = 2\n",
        "\n",
        "for i in range(3,n+1):\n",
        "    m[i] = m[i-1] + m[i-2]\n",
        "\n",
        "print(m[n]%10007)"
      ],
      "metadata": {
        "id": "BbqSuWC9MeJQ",
        "outputId": "45240029-5550-46af-cd3f-a17f89e84bc5",
        "colab": {
          "base_uri": "https://localhost:8080/"
        }
      },
      "execution_count": null,
      "outputs": [
        {
          "output_type": "stream",
          "name": "stdout",
          "text": [
            "10\n",
            "89\n"
          ]
        }
      ]
    },
    {
      "cell_type": "code",
      "source": [
        "# 11727번: 2xN 타일링 2\n",
        "\n",
        "n = int(input())\n",
        "\n",
        "m = [0]*1001\n",
        "m[1] = 1\n",
        "m[2] = 3\n",
        "\n",
        "for i in range(3,n+1):\n",
        "    m[i] = m[i-1] + m[i-2]*2\n",
        "\n",
        "print(m[n]%10007)"
      ],
      "metadata": {
        "id": "gitgT0UBPABD",
        "outputId": "1150e2c4-5159-4632-80a2-8d077862bcd5",
        "colab": {
          "base_uri": "https://localhost:8080/"
        }
      },
      "execution_count": null,
      "outputs": [
        {
          "output_type": "stream",
          "name": "stdout",
          "text": [
            "12\n",
            "2731\n"
          ]
        }
      ]
    },
    {
      "cell_type": "code",
      "source": [
        "# 11053번: 가장 긴 증가하는 부분 수열\n",
        "# LIS(Longest Increasing Subsequence)라는 유명한 DP문제\n",
        "\n",
        "N = int(input())\n",
        "\n",
        "A = list(map(int,input().split()))\n",
        "\n",
        "dp = [1] * N\n",
        "\n",
        "for i in range(N):\n",
        "    for j in range(i):\n",
        "        if A[j] < A [i]:\n",
        "            dp[i] = max(dp[i],dp[j]+1)\n",
        "\n",
        "print(max(dp))"
      ],
      "metadata": {
        "id": "fvIYmDPgODRD",
        "outputId": "979db8b9-c0c4-4e10-b68c-30e1cf34da7f",
        "colab": {
          "base_uri": "https://localhost:8080/"
        }
      },
      "execution_count": null,
      "outputs": [
        {
          "output_type": "stream",
          "name": "stdout",
          "text": [
            "6\n",
            "10 20 10 30 50 20\n",
            "4\n"
          ]
        }
      ]
    },
    {
      "cell_type": "code",
      "source": [
        "#11052번: 카드 구매하기\n",
        "N = int(input())\n",
        "P = [0] + list(map(int,input().split()))\n",
        "d = [0] * (N+1)\n",
        "d[1] = P[1]\n",
        "\n",
        "for i in range(2,N+1):\n",
        "    for j in range(1,i+1):\n",
        "        if d[i] < d[i-j] + P[j]:\n",
        "            d[i] = d[i-j] + P[j]\n",
        "\n",
        "print(d[N])"
      ],
      "metadata": {
        "id": "GzzjrQvTE-Bu",
        "outputId": "528b3c84-42a3-437c-ef3d-ef5f85c12d3f",
        "colab": {
          "base_uri": "https://localhost:8080/"
        }
      },
      "execution_count": 6,
      "outputs": [
        {
          "output_type": "stream",
          "name": "stdout",
          "text": [
            "4 \n",
            "1 5 6 7\n",
            "10\n"
          ]
        }
      ]
    },
    {
      "cell_type": "markdown",
      "metadata": {
        "id": "BmhGGGxFb5K0"
      },
      "source": [
        "# n544 과제\n"
      ]
    },
    {
      "cell_type": "code",
      "metadata": {
        "id": "ZWlMIplDcBnU",
        "colab": {
          "base_uri": "https://localhost:8080/"
        },
        "outputId": "e8da29ce-7e43-4747-f1e6-0ee268240fc6"
      },
      "source": [
        "def square(square_list):\n",
        "    w = len(square_list[0])\n",
        "    h = len(square_list)\n",
        "    ans = 1    \n",
        "    # 좌표 찍어주는 반복문\n",
        "    for i in range(len(square_list)):     \n",
        "        for j in range(len(square_list[0])):\n",
        "            start_i = i\n",
        "            start_j = j   \n",
        "            end_i = i \n",
        "            if square_list[i][j] == 1:\n",
        "                while True:\n",
        "                    if square_list[i][j] == 0:\n",
        "                        j -= 1\n",
        "                        break\n",
        "                    if  j == w-1:\n",
        "                        break\n",
        "                    j += 1\n",
        "\n",
        "                while True:\n",
        "                    if square_list[end_i][start_j] == 0 or square_list[end_i][j] == 0:\n",
        "                        end_i -= 1\n",
        "\n",
        "                        break\n",
        "                    if end_i == h-1:\n",
        "                        break\n",
        "                    end_i += 1 \n",
        "            rectangle = (end_i-start_i+1)*(j-start_j+1)\n",
        "            ans = max([ans,rectangle])\n",
        "        #     print(f'{(start_i,start_j)} -> {(end_i,j)} 넓이: {ans}')\n",
        "        # print()\n",
        "    return ans\n",
        "\n",
        "if __name__=='__main__':\n",
        "    square_list = [[0,1,1,1],[1,1,1,1]]\n",
        "    print(square(square_list))\n",
        "\n",
        "    square_list = [[0,0,1,1],[1,1,1,1],[1,1,1,1],[1,1,1,1]]\t\n",
        "    print(square(square_list))\n",
        "\n",
        "    square_list = [[0,1,1,1,1],[1,1,1,1,1],[1,1,1,1,1],[1,1,1,1,1],[1,1,1,1,1]]\n",
        "    print(square(square_list))\n",
        "    \n",
        "    square_list = [[0,1,1,1,1],[1,1,1,1,1],[0,1,1,1,1],[0,1,1,1,1],[0,1,1,1,0]]\n",
        "    print(square(square_list))\n",
        "    "
      ],
      "execution_count": null,
      "outputs": [
        {
          "output_type": "stream",
          "name": "stdout",
          "text": [
            "6\n",
            "12\n",
            "20\n",
            "16\n"
          ]
        }
      ]
    },
    {
      "cell_type": "code",
      "metadata": {
        "colab": {
          "base_uri": "https://localhost:8080/"
        },
        "id": "Vd2_yGPTFSSv",
        "outputId": "cb8aa3f3-be64-4e75-ffeb-d510757c2bbc"
      },
      "source": [
        "def square(square_list):\n",
        "    w = len(square_list[0])\n",
        "    h = len(square_list)\n",
        "    sum = 0\n",
        "\n",
        "    for i in range(1, h):\n",
        "        for j in range(1, w):\n",
        "            if square_list[i][j] == 1:\n",
        "                sum += 1\n",
        "                if i == h-1 and j == w-1:\n",
        "                    sum += w - 1                \n",
        "                    return sum\n",
        "\n",
        "\n",
        "if __name__=='__main__':\n",
        "    square_list = [[0,1,1,1],[1,1,1,1]]\n",
        "    print(square(square_list))\n",
        "\n",
        "    square_list = [[0,0,1,1],[1,1,1,1],[1,1,1,1],[1,1,1,1]]\t\n",
        "    print(square(square_list))\n",
        "\n",
        "    square_list = [[0,1,1,1,1],[1,1,1,1,1],[1,1,1,1,1],[1,1,1,1,1],[1,1,1,1,1]]\n",
        "    print(square(square_list))\n",
        "\n",
        "    square_list = [[0,1,1,1,1],[1,1,1,1,1],[0,1,1,1,1],[0,1,1,1,1],[0,1,1,1,0]]\n",
        "    print(square(square_list))"
      ],
      "execution_count": null,
      "outputs": [
        {
          "output_type": "stream",
          "name": "stdout",
          "text": [
            "6\n",
            "12\n",
            "20\n",
            "None\n"
          ]
        }
      ]
    },
    {
      "cell_type": "code",
      "metadata": {
        "colab": {
          "base_uri": "https://localhost:8080/"
        },
        "id": "raZf7GDKFfdG",
        "outputId": "cc353256-5fdb-49eb-dca0-7818d9b69517"
      },
      "source": [
        "def square(square_list):\n",
        "    import numpy as np\n",
        "\n",
        "    lst = np.array(square_list)\n",
        "    delete_rows = []\n",
        "    delete_columns = []\n",
        "\n",
        "    for j in range(0,len(lst)): # outer loop\n",
        "        for i in range(0, len(lst[j])): # inner loop\n",
        "            if lst[j][i] == 0:\n",
        "                if lst[j].tolist().count(0) > lst[:,i].tolist().count(0):\n",
        "                    delete_rows.append(j)\n",
        "                else:\n",
        "                    delete_columns.append(i)\n",
        "\n",
        "    #row_delete\n",
        "    lst = np.delete(lst, delete_rows, axis=0)        \n",
        "    #column delete\n",
        "    lst = np.delete(lst, delete_columns, axis=1)        \n",
        "    w = len(lst[0])\n",
        "    h = len(lst[:,0])\n",
        "\n",
        "    return int(w * h)\n",
        "\n",
        "\n",
        "if __name__=='__main__':\n",
        "    square_list = [[0,1,1,1],[1,1,1,1]]\n",
        "    print(square(square_list))\n",
        "\n",
        "    square_list = [[0,0,1,1],[1,1,1,1],[1,1,1,1],[1,1,1,1]]\t\n",
        "    print(square(square_list))\n",
        "\n",
        "    square_list = [[0,1,1,1,1],[1,1,1,1,1],[1,1,1,1,1],[1,1,1,1,1],[1,1,1,1,1]]\n",
        "    print(square(square_list))\n",
        "\n",
        "    square_list = [[0,1,1,1,1],[1,1,1,1,1],[0,1,1,1,1],[0,1,1,1,1],[0,1,1,1,0]]\n",
        "    print(square(square_list))"
      ],
      "execution_count": null,
      "outputs": [
        {
          "output_type": "stream",
          "name": "stdout",
          "text": [
            "6\n",
            "12\n",
            "20\n",
            "16\n"
          ]
        }
      ]
    },
    {
      "cell_type": "code",
      "metadata": {
        "colab": {
          "base_uri": "https://localhost:8080/"
        },
        "id": "yPeGJO7_LwVe",
        "outputId": "8ba41f15-8b1a-4356-9e01-84aa0be76236"
      },
      "source": [
        "def word_logic(num):\n",
        "\n",
        "    word_result = {\n",
        "        0:'Zero',\n",
        "        1:'One',\n",
        "        2:'Two',\n",
        "        3:'Three',\n",
        "        4:'Four',\n",
        "        5:'Five',\n",
        "        6:'Six',\n",
        "        7:'Seven',\n",
        "        8:'Eight',\n",
        "        9:'Nine',\n",
        "        10:'Ten',\n",
        "        11:'Eleven',\n",
        "        12:'Twelve',\n",
        "        13:'Thirteen',\n",
        "        14:'Fourteen',\n",
        "        15:'Fifteen',\n",
        "        16:'Sixteen',\n",
        "        17:'Seventeen',\n",
        "        18:'Eighteen',\n",
        "        19:'Nineteen',\n",
        "        20:'Twenty',\n",
        "        30:'Thirty',\n",
        "        40:'Forty',\n",
        "        50:'Fifty',\n",
        "        60:'Sixty',\n",
        "        70:'Seventy',\n",
        "        80:'Eighty',\n",
        "        90:'Ninety'\n",
        "    }\n",
        "    word = ''\n",
        "    if num <= 20:\n",
        "        word =  word_result[num]\n",
        "\n",
        "    elif 20 < num <= 99:\n",
        "        quotient10 = (num//10)*10\n",
        "        remainder = num%10\n",
        "        word = word_result[quotient10] + '-' + word_result[remainder].lower()\n",
        "\n",
        "    elif 100 <= num < 1000:\n",
        "        quotient100 = num//100\n",
        "        remainder = num - (quotient100*100)\n",
        "        if remainder == 0:\n",
        "            word = word_logic(quotient100) + ' hundred'\n",
        "        else:\n",
        "            word = word_logic(quotient100).lower() + ' hundred and ' + word_logic(remainder).lower()\n",
        "\n",
        "    elif 1000 <= num < 1000000:\n",
        "        quotient1000 = num//1000\n",
        "        remainder = num - (quotient1000*1000)\n",
        "        if remainder == 0:\n",
        "            word = word_logic(quotient1000) + ' thousand'\n",
        "        else:\n",
        "            word = word_logic(quotient1000) + ' thousand, ' + word_logic(remainder).lower()\n",
        "\n",
        "    elif 1000000 <= num:\n",
        "        quotient1000000 = num//1000000\n",
        "        remainder = num - (quotient1000000*1000000)\n",
        "        if remainder == 0:\n",
        "            word = word_logic(quotient1000000) + ' million'\n",
        "        else:\n",
        "            word = word_logic(quotient1000000) + ' million, ' + word_logic(remainder).lower()\n",
        "\n",
        "    return word \n",
        "\n",
        "\n",
        "def number_logic(num):\n",
        "    return word_logic(num) + '.'\n",
        "\n",
        "if __name__ == '__main__':\n",
        "    print(number_logic(1043283))"
      ],
      "execution_count": null,
      "outputs": [
        {
          "output_type": "stream",
          "name": "stdout",
          "text": [
            "One million, forty-three thousand, two hundred and eighty-three.\n"
          ]
        }
      ]
    },
    {
      "cell_type": "markdown",
      "metadata": {
        "id": "tSEROTN8rjHA"
      },
      "source": [
        "# 이코테 문제\n"
      ]
    },
    {
      "cell_type": "code",
      "metadata": {
        "colab": {
          "base_uri": "https://localhost:8080/"
        },
        "id": "2ROh-QkrsRbG",
        "outputId": "08ed9db3-753c-4589-a752-866ecd1a0861"
      },
      "source": [
        "# 1로 만들기\n",
        "# 바텀업 방식으로\n",
        "# 애초에 내가 생각했던거랑 접근방법 자체가 다르다.\n",
        "# 바텀업, 탑바텀 한번씩 생각을 해본다음에 들어가자. 너무 한 방법에만 꽂혀서 시간 흘려보내면 안된다.\n",
        "n = int(input())\n",
        "\n",
        "def make_one(num,d=[0]):\n",
        "\n",
        "    d = d * (n+1)\n",
        "\n",
        "    for i in range(2,n+1):\n",
        "        d[i] = d[i-1] + 1\n",
        "        if i % 2 == 0:\n",
        "            d[i] = min(d[i],d[i//2]+1)\n",
        "        if i % 3 == 0:\n",
        "            d[i] = min(d[i],d[i//3]+1)\n",
        "        if i % 5 == 0:\n",
        "            d[i] = min(d[i],d[i//5]+1)\n",
        "\n",
        "    return d[num]\n",
        "make_one(n)"
      ],
      "execution_count": null,
      "outputs": [
        {
          "output_type": "execute_result",
          "data": {
            "text/plain": [
              "[13]"
            ]
          },
          "metadata": {},
          "execution_count": 104
        }
      ]
    },
    {
      "cell_type": "code",
      "metadata": {
        "id": "0vhhzlG5G12Z",
        "colab": {
          "base_uri": "https://localhost:8080/"
        },
        "outputId": "244f30c7-c0cd-4266-dcf8-5caf657749c6"
      },
      "source": [
        "# 개미전사 - dp\n",
        "# 거의 다 생각해냈다.\n",
        "# 케이스별로 나눠서 생각해보는게 일단은 좋은 방법인듯 하다.\n",
        "# 재귀로 탑다운 방식을 사용하였다.\n",
        "\n",
        "n = int(input())  # 식량창고 개수\n",
        "\n",
        "container = list(map(int,input().split()))\n",
        "\n",
        "def ant(container):\n",
        "    if len(container) == 1:\n",
        "        return container[0]\n",
        "    elif len(container) == 2:\n",
        "        return max(container)\n",
        "    elif len(container) == 3:\n",
        "        return max(container[0]+container[2],container[1])\n",
        "    elif len(container) == 4:\n",
        "        return max(container[0]+container[2],container[0]+container[3],container[1]+container[3])\n",
        "    else:\n",
        "        a = container[0] + ant(container[2:])\n",
        "        b = container[1] + ant(container[3:])\n",
        "        return max(a,b)\n",
        "\n",
        "print(ant(container))\n",
        "\n",
        "# 바텀업 방식\n",
        "# 이게 훨씬 간단한 듯 하다.\n",
        "# 역시나 더 공부할 것이 많다.\n",
        "# 내가 바텀업 방식을 잘 생각해내지 못하는것 같다. 이쪽으로도 더 생각해보자.\n",
        "n = int(input())\n",
        "array = list(map(int,input().split()))\n",
        "d = [0]*100\n",
        "\n",
        "d[0] = array[0]\n",
        "d[1] = max(array[0],array[1])\n",
        "for i in range(2,n):\n",
        "    d[i] = max(d[i-1],d[i-2]+array[i])\n",
        "print(d[n-1])"
      ],
      "execution_count": null,
      "outputs": [
        {
          "output_type": "stream",
          "name": "stdout",
          "text": [
            "4\n",
            "4 2 3 10\n",
            "14\n",
            "4\n",
            "4 2 3 10\n",
            "14\n"
          ]
        }
      ]
    },
    {
      "cell_type": "code",
      "metadata": {
        "colab": {
          "base_uri": "https://localhost:8080/"
        },
        "id": "Abn7WZ5VED5V",
        "outputId": "437454c0-9bed-4769-cc19-aa9c809b044f"
      },
      "source": [
        "# 바닥공사\n",
        "# 이 문제도 점화식을 생각해낸다면 바텀업 방식으로 가볍게 풀 수 있는 문제이다.\n",
        "# 기억해두자 점화식 바텀업 테불레이션\n",
        "\n",
        "n = int(input())\n",
        "d = [0]*100\n",
        "d[1] = 1\n",
        "d[2] = 3\n",
        "for i in range(3,n+1):\n",
        "    d[i] = d[i-1] + (d[i-2]*2)\n",
        "\n",
        "print(d[n])"
      ],
      "execution_count": null,
      "outputs": [
        {
          "output_type": "stream",
          "name": "stdout",
          "text": [
            "4\n",
            "11\n"
          ]
        }
      ]
    },
    {
      "cell_type": "markdown",
      "metadata": {
        "id": "KloiR7mNbdyP"
      },
      "source": [
        "\n",
        "\n",
        "\n",
        "# 연습장\n"
      ]
    }
  ]
}